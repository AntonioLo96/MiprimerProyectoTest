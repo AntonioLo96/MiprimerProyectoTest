{
 "cells": [
  {
   "cell_type": "markdown",
   "metadata": {},
   "source": [
    "### Presentación"
   ]
  },
  {
   "cell_type": "markdown",
   "metadata": {},
   "source": [
    "- **Nombre:** Antonio López Alvarez\n",
    "- Profesión: <font color = red> **Estudiante ingenieria civil** </font>\n",
    "- Edad: **22 años**\n",
    "- Pasatiempos: Peliculas, salir con amigos\n"
   ]
  },
  {
   "cell_type": "markdown",
   "metadata": {},
   "source": [
    "Foto: \n",
    "    <img src =\"https://encrypted-tbn0.gstatic.com/images?q=tbn:ANd9GcTUwu8p2aIH6dBHJWbha26cfmBntEf7cz3SsRpRM_B5vwcT5zKF\" width=\"150px\" height=\"50px\" />"
   ]
  },
  {
   "cell_type": "code",
   "execution_count": null,
   "metadata": {},
   "outputs": [],
   "source": []
  }
 ],
 "metadata": {
  "kernelspec": {
   "display_name": "Python 3",
   "language": "python",
   "name": "python3"
  },
  "language_info": {
   "codemirror_mode": {
    "name": "ipython",
    "version": 3
   },
   "file_extension": ".py",
   "mimetype": "text/x-python",
   "name": "python",
   "nbconvert_exporter": "python",
   "pygments_lexer": "ipython3",
   "version": "3.6.5"
  }
 },
 "nbformat": 4,
 "nbformat_minor": 2
}
